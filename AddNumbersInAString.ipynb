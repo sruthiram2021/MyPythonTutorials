{
  "nbformat": 4,
  "nbformat_minor": 0,
  "metadata": {
    "colab": {
      "name": "AddNumbersInAString.ipynb",
      "provenance": [],
      "collapsed_sections": [],
      "authorship_tag": "ABX9TyMT7URq1LRN9CXRHfug93OT",
      "include_colab_link": true
    },
    "kernelspec": {
      "name": "python3",
      "display_name": "Python 3"
    },
    "language_info": {
      "name": "python"
    }
  },
  "cells": [
    {
      "cell_type": "markdown",
      "metadata": {
        "id": "view-in-github",
        "colab_type": "text"
      },
      "source": [
        "<a href=\"https://colab.research.google.com/github/sruthiram2021/MyPythonTutorials/blob/main/AddNumbersInAString.ipynb\" target=\"_parent\"><img src=\"https://colab.research.google.com/assets/colab-badge.svg\" alt=\"Open In Colab\"/></a>"
      ]
    },
    {
      "cell_type": "code",
      "execution_count": 8,
      "metadata": {
        "colab": {
          "base_uri": "https://localhost:8080/"
        },
        "id": "CAPOB3LEiw71",
        "outputId": "f8fd601e-d447-4d10-d848-1c6eaaa6631a"
      },
      "outputs": [
        {
          "output_type": "execute_result",
          "data": {
            "text/plain": [
              "['I', 'live', '20', '30', 'in', '40', 'Canada', '60']"
            ]
          },
          "metadata": {},
          "execution_count": 8
        }
      ],
      "source": [
        "my_string = 'I live 20 30 in 40 Canada 60'\n",
        "list_words = my_string.split(\" \")\n",
        "list_words"
      ]
    },
    {
      "cell_type": "code",
      "source": [
        "list_int_words = list()\n",
        "for word in list_words:\n",
        "  try:\n",
        "    list_int_words.append(int(word))\n",
        "  except ValueError:\n",
        "    pass\n",
        "\n",
        "print(list_int_words)\n",
        "\n",
        "sum_values = sum(list_int_words)\n",
        "sum_values\n",
        "\n",
        "print(\"Hello World\")"
      ],
      "metadata": {
        "colab": {
          "base_uri": "https://localhost:8080/"
        },
        "id": "5h5h7g8ajCBr",
        "outputId": "0796ce8a-f5d1-4b42-dcde-00edd490dd04"
      },
      "execution_count": 9,
      "outputs": [
        {
          "output_type": "stream",
          "name": "stdout",
          "text": [
            "[20, 30, 40, 60]\n"
          ]
        },
        {
          "output_type": "execute_result",
          "data": {
            "text/plain": [
              "150"
            ]
          },
          "metadata": {},
          "execution_count": 9
        }
      ]
    }
  ]
}